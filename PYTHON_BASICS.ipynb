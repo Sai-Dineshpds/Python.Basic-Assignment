{
  "nbformat": 4,
  "nbformat_minor": 0,
  "metadata": {
    "colab": {
      "provenance": []
    },
    "kernelspec": {
      "name": "python3",
      "display_name": "Python 3"
    },
    "language_info": {
      "name": "python"
    }
  },
  "cells": [
    {
      "cell_type": "markdown",
      "source": [
        "#BASICS"
      ],
      "metadata": {
        "id": "txD0kZafV-OX"
      }
    },
    {
      "cell_type": "markdown",
      "source": [
        "### 1.Explain the key features of Python that make it a popular choice for programming ?\n",
        "   - Easy to Learn and Use: Python has a clean and readable syntax. It's closer to English, making it beginner-friendly.\n",
        "\n",
        "   - Interpreted Language: Python executes code line-by-line, which makes\n",
        "     debugging easier and faster.\n",
        "\n",
        "   -Dynamically Typed: You don’t need to declare data types for variables. Python automatically assigns the type.\n",
        "\n",
        "   -Extensive Standard Library: It offers built-in modules and functions for tasks like file I/O, system calls, regular expressions, web development, and more.\n",
        "\n",
        "   -Cross-platform: Python code can run on Windows, macOS, and Linux without requiring modifications.\n",
        "\n",
        "   -Object-Oriented and Functional: Python supports both object-oriented and functional programming paradigms.\n",
        "\n",
        "   -Large Community and Ecosystem: Python has a vast community, making it easy to find solutions, libraries, and support.\n",
        "\n",
        "   -Integration and Extensibility: Python can easily integrate with other languages like C/C++, Java, etc.\n",
        "\n"
      ],
      "metadata": {
        "id": "Xpcnm8maWfFA"
      }
    },
    {
      "cell_type": "markdown",
      "source": [
        "###2.Describe the role of predefined keywords in Python and provide examples of how they are used in a program ?\n",
        "   - Keywords are reserved words that have special meaning in Python. They are part of the language syntax and cannot be used as variable names.\n",
        "   -Some commonly used keywords include:\n",
        "    - if, else, elif - for conditionals\n",
        "\n",
        "    - for, while, break, continue - for loops\n",
        "\n",
        "    - def, return - for defining functions\n",
        "\n",
        "    - class - for object-oriented programming\n",
        "\n",
        "    - import - for bringing in modules\n",
        "\n",
        "    - try, except, finally - for error handling\n",
        "\n",
        "    - True, False, None - constants\n",
        "\n",
        "    - and, or, not, in, is - logical and identity checks\n",
        "\n"
      ],
      "metadata": {
        "id": "FwgRTZhlXpkc"
      }
    },
    {
      "cell_type": "markdown",
      "source": [
        "###3.Compare and contrast mutable and immutable objects in Python with examples ?\n",
        "  - Mutable Objects in Python\n",
        "   - Can be changed after creation (content is editable).\n",
        "   - Common mutable types: list , dictionary , set\n",
        "   - You can modify, add, or remove elements in-place.\n",
        "   - Cannot be used as dictionary keys (they're not hashable).\n",
        "   - When passed to a function, they can be modified inside the function.\n",
        "\n",
        "    - Example:\n",
        "               my_list = [1, 2, 3]\n",
        "               my_list.append(4)\n",
        "               print(my_list)\n",
        "               # Output: [1, 2, 3, 4]\n",
        "        \n",
        "\n",
        "  - Immutable Objects in Python\n",
        "    - Cannot be changed after creation.\n",
        "    - Common immutable types:int , float , str , tuple , bool\n",
        "    - You cannot modify them in-place.\n",
        "    - When passed to a function, the original value remains unchanged.\n",
        "    - Useful when you need fixed, unchanging data or safe hashable keys.\n",
        "    - Example:\n",
        "               name = \"Alice\"\n",
        "               name = name + \" Smith\"\n",
        "               print(name)  \n",
        "               # Output: \"Alice Smith\"\n"
      ],
      "metadata": {
        "id": "uzmLuJnuXpxH"
      }
    },
    {
      "cell_type": "markdown",
      "source": [
        "### 4. Discuss the different types of operators in Python and provide examples of how they are used ?\n",
        "  - Python provides several types of operators:\n",
        "     - a) Arithmetic Operators :\n",
        "                                x = 10\n",
        "                                y = 3\n",
        "                                print(x + y)  # 13\n",
        "                                print(x - y)  # 7\n",
        "                                print(x * y)  # 30\n",
        "                                print(x / y)  # 3.33\n",
        "                                print(x % y)  # 1\n",
        "                                print(x ** y) # 1000\n",
        "    - b) Comparison (Relational) Operators:\n",
        "                               print(x > y)   # True\n",
        "                               print(x == y)  # False\n",
        "    - c) Assignment Operators :\n",
        "                              x += 2    # Equivalent to x = x + 2\n",
        "    - d) Logical Operators :\n",
        "                          a = True\n",
        "                          b = False\n",
        "                          print(a and b)  # False\n",
        "                          print(a or b)   # True\n",
        "    - e) Bitwise Operators:\n",
        "                         x = 5   # 0101\n",
        "                         y = 3   # 0011\n",
        "                         print(x & y)  # 1 (0001)\n",
        "    - f) Membership Operators:\n",
        "                        nums = [1, 2, 3]\n",
        "                        print(2 in nums)      # True\n",
        "                        print(4 not in nums)  # True\n"
      ],
      "metadata": {
        "id": "eaNtSf1vXp0A"
      }
    },
    {
      "cell_type": "markdown",
      "source": [
        "###5 . Explain the concept of type casting in Python with examples?\n",
        "   - Type casting (also called type conversion) is the process of converting one data type into another.\n",
        "    - Convert input data (like from a string to a number)\n",
        "    - Make data compatible with functions\n",
        "      - Types of Type Casting\n",
        "      - Python supports two main types:\n",
        "   - 1. Implicit Type Casting :\n",
        "     - Happens when Python converts smaller or less complex data types into larger or more complex ones\n",
        "      - Examples :\n",
        "               x = 10       # int\n",
        "               y = 2.5      # float\n",
        "               result = x + y\n",
        "               print(result)       # Output: 12.5\n",
        "               print(type(result)) # Output: <class 'float'>\n",
        "          - Python automatically converts int (x) to float to perform the operation safely.\n",
        "\n",
        "\n",
        "2. Explicit Type Casting:\n",
        "      - Done manually by the programmer\n",
        "      - Uses built-in functions like:\n",
        "      - int() – converts to integer\n",
        "      - float() – converts to float\n",
        "      - str() – converts to string\n",
        "      - bool() – converts to Boolean\n",
        "      - list(), tuple(), set() – converts between data structures\n",
        "   - Examples:\n",
        "              Convert string to integer\n",
        "              num_str = \"123\"\n",
        "              num_int = int(num_str)\n",
        "              print(num_int)        # 123\n",
        "              print(type(num_int))  # <class 'int'>\n"
      ],
      "metadata": {
        "id": "Mt2bNctJXp5Q"
      }
    },
    {
      "cell_type": "markdown",
      "source": [
        "###6 . How do conditional statements work in Python? Illustrate with examples?\n",
        "   - Conditional statements allow a program to execute certain blocks of code only when specific conditions are met. They're used to make decisions in your code.\n",
        "   - Types of Conditional Statements in Python\n",
        "   - 1.If Statement :\n",
        "    - Executes a block of code if the condition is true.\n",
        "    - Example :\n",
        "              x = 10\n",
        "              if x > 5:\n",
        "              print(\"x is greater than 5\")\n",
        "              Output: x is greater than 5\n",
        "\n",
        "   - 2.if-else Statement\n",
        "   - Executes one block if the condition is true, and another if it's false.\n",
        "   - Example :\n",
        "              x = 3\n",
        "              if x > 5:\n",
        "                  print(\"x is greater than 5\")\n",
        "              else:\n",
        "                  print(\"x is not greater than 5\")\n",
        "              \n",
        "              Output: x is not greater than 5\n",
        "\n",
        "   - 3.if-elif-else Statement\n",
        "   - Checks multiple conditions in sequence.\n",
        "   - Example :\n",
        "              x = 0\n",
        "              if x > 0:\n",
        "                  print(\"Positive\")\n",
        "              elif x < 0:\n",
        "                  print(\"Negative\")\n",
        "              else:\n",
        "                  print(\"Zero\")\n",
        "                          \n",
        "              Output: Zero\n",
        "\n"
      ],
      "metadata": {
        "id": "skORMNRtXp7p"
      }
    },
    {
      "cell_type": "markdown",
      "source": [
        "###7 . Describe the different types of loops in Python and their use cases with examples ?\n",
        "  - Types of Loops in Python\n",
        "  - Python supports two main types of loops:\n",
        "    - for loop\n",
        "    - while loop\n",
        "    - loop control statements like break, continue, and pass.\n",
        "  1. For Loop:\n",
        "   - Used to iterate over a sequence (like a list, tuple, string, or range).\n",
        "Repeats a block of code a specific number of times.\n",
        "  - Example:\n",
        "          for i in range(5):\n",
        "          print(i)\n",
        "          \n",
        "          Output:\n",
        "              0  \n",
        "              1  \n",
        "              2  \n",
        "              3  \n",
        "              4\n",
        "\n",
        "  2. while Loop\n",
        "   - Repeats a block of code as long as a condition is true.\n",
        "   - Use when number of iterations is unknown.\n",
        "   - Example:\n",
        "            i = 1\n",
        "            while i <= 5:\n",
        "            print(i)\n",
        "            i += 1\n",
        "        \n",
        "            Output:\n",
        "                    1  \n",
        "                    2  \n",
        "                    3  \n",
        "                    4  \n",
        "                    5\n",
        "\n",
        "  3. Nested Loops\n",
        "    - One loop inside another loop.\n",
        "    - Useful for multi-level data structures like 2D lists, tables, or matrices.\n",
        "    - Example:\n",
        "              for i in range(1, 4):\n",
        "                  for j in range(1, 4):\n",
        "                    print(f\"{i} x {j} = {i*j}\")\n",
        "  4. Loop Control Statements\n",
        "    - Break :\n",
        "    - Stops the loop completely.\n",
        "    - Example :\n",
        "              for i in range(5):\n",
        "                      if i == 3:\n",
        "                          break\n",
        "                          print(i)\n",
        "              \n",
        "                # Output: 0 1 2\n",
        "    - Continue :\n",
        "    - Skips the current iteration and moves to the next.\n",
        "    - Example :\n",
        "              for i in range(5):\n",
        "                      if i == 3:\n",
        "                        continue\n",
        "                        print(i)\n",
        "\n",
        "              # Output: 0 1 2 4\n",
        "    - pass :\n",
        "    - Does nothing used as a placeholder.\n",
        "\n",
        "          for i in range(5):\n",
        "                if i == 3:\n",
        "                      pass\n",
        "                    print(i)\n",
        "                # Output: 0 1 2 3 4"
      ],
      "metadata": {
        "id": "xtnKH7r2Xp_S"
      }
    },
    {
      "cell_type": "code",
      "source": [],
      "metadata": {
        "id": "QH18j3fXm95D"
      },
      "execution_count": null,
      "outputs": []
    }
  ]
}